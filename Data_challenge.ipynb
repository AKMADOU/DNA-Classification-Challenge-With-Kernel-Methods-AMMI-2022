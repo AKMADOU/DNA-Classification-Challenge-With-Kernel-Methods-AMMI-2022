{
  "nbformat": 4,
  "nbformat_minor": 0,
  "metadata": {
    "colab": {
      "name": "Kernel_project.ipynb",
      "provenance": [],
      "collapsed_sections": []
    },
    "kernelspec": {
      "name": "python3",
      "display_name": "Python 3"
    },
    "language_info": {
      "name": "python"
    }
  },
  "cells": [
    {
      "cell_type": "markdown",
      "source": [
        "## Kernel Methods Project\n",
        "Team name: A_O"
      ],
      "metadata": {
        "id": "NMFoxQp3ELuW"
      }
    },
    {
      "cell_type": "code",
      "execution_count": 1,
      "metadata": {
        "id": "R9w4XNnCEK_g"
      },
      "outputs": [],
      "source": [
        "import numpy as np\n",
        "import sklearn\n",
        "import pandas as pd\n",
        "import matplotlib.pyplot as plt\n",
        "%matplotlib inline\n",
        "import seaborn as sns\n",
        "from sklearn.metrics import accuracy_score, roc_auc_score"
      ]
    },
    {
      "cell_type": "markdown",
      "source": [
        "### Load the dastasets"
      ],
      "metadata": {
        "id": "6A2OiImbQZED"
      }
    },
    {
      "cell_type": "code",
      "source": [
        "Xtr = pd.read_csv('/content/Xtr.csv')\n",
        "Xtr_vec = pd.read_csv('/content/Xtr_vectors.csv')\n",
        "Xte = pd.read_csv('/content/Xte.csv')\n",
        "Xte_vec = pd.read_csv('/content/Xte_vectors.csv')\n",
        "Ytr= pd.read_csv('/content/Ytr.csv')"
      ],
      "metadata": {
        "id": "jMdN2a83FHw1"
      },
      "execution_count": 2,
      "outputs": []
    },
    {
      "cell_type": "code",
      "source": [
        "Xtr.head()"
      ],
      "metadata": {
        "colab": {
          "base_uri": "https://localhost:8080/",
          "height": 206
        },
        "id": "MeYq27QN6zzC",
        "outputId": "17ba4b1b-90ac-46f6-af43-9576154ca16a"
      },
      "execution_count": 3,
      "outputs": [
        {
          "output_type": "execute_result",
          "data": {
            "text/plain": [
              "   Id                                           Sequence\n",
              "0   1  TCTTCCATCGTTGATAGTGTTACATTGAAGAATGCGACGATCCATC...\n",
              "1   2  CTTCTTCAGTAATTACCTCAAGAGACGTTTAGTCTCTAATGGTGTT...\n",
              "2   3  GTCTATGGTGCTGCTGTTGTTTACCGGGGTACAACAACTTACAAAT...\n",
              "3   4  ATTCGCCATGAGTAAATTTCCCCTTAAATTAGGGGGTTCAGCTGTT...\n",
              "4   5  CAGACAAAACATTTGTGTCTGGTAACTGTGATGTTGTAATAGGAAT..."
            ],
            "text/html": [
              "\n",
              "  <div id=\"df-9f093ab6-873c-43af-adb5-719f662bd2e5\">\n",
              "    <div class=\"colab-df-container\">\n",
              "      <div>\n",
              "<style scoped>\n",
              "    .dataframe tbody tr th:only-of-type {\n",
              "        vertical-align: middle;\n",
              "    }\n",
              "\n",
              "    .dataframe tbody tr th {\n",
              "        vertical-align: top;\n",
              "    }\n",
              "\n",
              "    .dataframe thead th {\n",
              "        text-align: right;\n",
              "    }\n",
              "</style>\n",
              "<table border=\"1\" class=\"dataframe\">\n",
              "  <thead>\n",
              "    <tr style=\"text-align: right;\">\n",
              "      <th></th>\n",
              "      <th>Id</th>\n",
              "      <th>Sequence</th>\n",
              "    </tr>\n",
              "  </thead>\n",
              "  <tbody>\n",
              "    <tr>\n",
              "      <th>0</th>\n",
              "      <td>1</td>\n",
              "      <td>TCTTCCATCGTTGATAGTGTTACATTGAAGAATGCGACGATCCATC...</td>\n",
              "    </tr>\n",
              "    <tr>\n",
              "      <th>1</th>\n",
              "      <td>2</td>\n",
              "      <td>CTTCTTCAGTAATTACCTCAAGAGACGTTTAGTCTCTAATGGTGTT...</td>\n",
              "    </tr>\n",
              "    <tr>\n",
              "      <th>2</th>\n",
              "      <td>3</td>\n",
              "      <td>GTCTATGGTGCTGCTGTTGTTTACCGGGGTACAACAACTTACAAAT...</td>\n",
              "    </tr>\n",
              "    <tr>\n",
              "      <th>3</th>\n",
              "      <td>4</td>\n",
              "      <td>ATTCGCCATGAGTAAATTTCCCCTTAAATTAGGGGGTTCAGCTGTT...</td>\n",
              "    </tr>\n",
              "    <tr>\n",
              "      <th>4</th>\n",
              "      <td>5</td>\n",
              "      <td>CAGACAAAACATTTGTGTCTGGTAACTGTGATGTTGTAATAGGAAT...</td>\n",
              "    </tr>\n",
              "  </tbody>\n",
              "</table>\n",
              "</div>\n",
              "      <button class=\"colab-df-convert\" onclick=\"convertToInteractive('df-9f093ab6-873c-43af-adb5-719f662bd2e5')\"\n",
              "              title=\"Convert this dataframe to an interactive table.\"\n",
              "              style=\"display:none;\">\n",
              "        \n",
              "  <svg xmlns=\"http://www.w3.org/2000/svg\" height=\"24px\"viewBox=\"0 0 24 24\"\n",
              "       width=\"24px\">\n",
              "    <path d=\"M0 0h24v24H0V0z\" fill=\"none\"/>\n",
              "    <path d=\"M18.56 5.44l.94 2.06.94-2.06 2.06-.94-2.06-.94-.94-2.06-.94 2.06-2.06.94zm-11 1L8.5 8.5l.94-2.06 2.06-.94-2.06-.94L8.5 2.5l-.94 2.06-2.06.94zm10 10l.94 2.06.94-2.06 2.06-.94-2.06-.94-.94-2.06-.94 2.06-2.06.94z\"/><path d=\"M17.41 7.96l-1.37-1.37c-.4-.4-.92-.59-1.43-.59-.52 0-1.04.2-1.43.59L10.3 9.45l-7.72 7.72c-.78.78-.78 2.05 0 2.83L4 21.41c.39.39.9.59 1.41.59.51 0 1.02-.2 1.41-.59l7.78-7.78 2.81-2.81c.8-.78.8-2.07 0-2.86zM5.41 20L4 18.59l7.72-7.72 1.47 1.35L5.41 20z\"/>\n",
              "  </svg>\n",
              "      </button>\n",
              "      \n",
              "  <style>\n",
              "    .colab-df-container {\n",
              "      display:flex;\n",
              "      flex-wrap:wrap;\n",
              "      gap: 12px;\n",
              "    }\n",
              "\n",
              "    .colab-df-convert {\n",
              "      background-color: #E8F0FE;\n",
              "      border: none;\n",
              "      border-radius: 50%;\n",
              "      cursor: pointer;\n",
              "      display: none;\n",
              "      fill: #1967D2;\n",
              "      height: 32px;\n",
              "      padding: 0 0 0 0;\n",
              "      width: 32px;\n",
              "    }\n",
              "\n",
              "    .colab-df-convert:hover {\n",
              "      background-color: #E2EBFA;\n",
              "      box-shadow: 0px 1px 2px rgba(60, 64, 67, 0.3), 0px 1px 3px 1px rgba(60, 64, 67, 0.15);\n",
              "      fill: #174EA6;\n",
              "    }\n",
              "\n",
              "    [theme=dark] .colab-df-convert {\n",
              "      background-color: #3B4455;\n",
              "      fill: #D2E3FC;\n",
              "    }\n",
              "\n",
              "    [theme=dark] .colab-df-convert:hover {\n",
              "      background-color: #434B5C;\n",
              "      box-shadow: 0px 1px 3px 1px rgba(0, 0, 0, 0.15);\n",
              "      filter: drop-shadow(0px 1px 2px rgba(0, 0, 0, 0.3));\n",
              "      fill: #FFFFFF;\n",
              "    }\n",
              "  </style>\n",
              "\n",
              "      <script>\n",
              "        const buttonEl =\n",
              "          document.querySelector('#df-9f093ab6-873c-43af-adb5-719f662bd2e5 button.colab-df-convert');\n",
              "        buttonEl.style.display =\n",
              "          google.colab.kernel.accessAllowed ? 'block' : 'none';\n",
              "\n",
              "        async function convertToInteractive(key) {\n",
              "          const element = document.querySelector('#df-9f093ab6-873c-43af-adb5-719f662bd2e5');\n",
              "          const dataTable =\n",
              "            await google.colab.kernel.invokeFunction('convertToInteractive',\n",
              "                                                     [key], {});\n",
              "          if (!dataTable) return;\n",
              "\n",
              "          const docLinkHtml = 'Like what you see? Visit the ' +\n",
              "            '<a target=\"_blank\" href=https://colab.research.google.com/notebooks/data_table.ipynb>data table notebook</a>'\n",
              "            + ' to learn more about interactive tables.';\n",
              "          element.innerHTML = '';\n",
              "          dataTable['output_type'] = 'display_data';\n",
              "          await google.colab.output.renderOutput(dataTable, element);\n",
              "          const docLink = document.createElement('div');\n",
              "          docLink.innerHTML = docLinkHtml;\n",
              "          element.appendChild(docLink);\n",
              "        }\n",
              "      </script>\n",
              "    </div>\n",
              "  </div>\n",
              "  "
            ]
          },
          "metadata": {},
          "execution_count": 3
        }
      ]
    },
    {
      "cell_type": "code",
      "source": [
        "Xtr_vec.head()"
      ],
      "metadata": {
        "colab": {
          "base_uri": "https://localhost:8080/",
          "height": 299
        },
        "id": "W1W9bXI0FbTW",
        "outputId": "049aa3b9-54c1-4098-8f83-997884cdf3f8"
      },
      "execution_count": 4,
      "outputs": [
        {
          "output_type": "execute_result",
          "data": {
            "text/plain": [
              "   Id       1       2       3       4       5       6       7       8       9  \\\n",
              "0   1  0.1406  0.0625  0.0781  0.1094  0.0625  0.0312  0.0312  0.1406  0.0781   \n",
              "1   2  0.1250  0.1250  0.0781  0.0938  0.0625  0.0469  0.0625  0.1094  0.1406   \n",
              "2   3  0.1406  0.1719  0.0156  0.0781  0.1406  0.1094  0.0938  0.0469  0.0312   \n",
              "3   4  0.1406  0.0938  0.0781  0.1250  0.1250  0.0469  0.0312  0.0781  0.0938   \n",
              "4   5  0.2188  0.1094  0.1094  0.2031  0.1250  0.0625  0.0156  0.1094  0.1406   \n",
              "\n",
              "   ...      55      56      57      58      59      60      61      62  \\\n",
              "0  ...  0.0625  0.1719  0.0781  0.0312  0.0625  0.1719  0.0781  0.1094   \n",
              "1  ...  0.0781  0.1406  0.1094  0.0625  0.0312  0.1406  0.0625  0.1406   \n",
              "2  ...  0.1406  0.0938  0.0938  0.0156  0.0625  0.0781  0.1562  0.0469   \n",
              "3  ...  0.0312  0.2031  0.1094  0.0469  0.0469  0.1875  0.1094  0.1562   \n",
              "4  ...  0.0312  0.0938  0.0781  0.0156  0.0312  0.1250  0.1719  0.0781   \n",
              "\n",
              "       63      64  \n",
              "0  0.1406  0.1250  \n",
              "1  0.1250  0.1406  \n",
              "2  0.0781  0.1094  \n",
              "3  0.1406  0.1875  \n",
              "4  0.0625  0.1719  \n",
              "\n",
              "[5 rows x 65 columns]"
            ],
            "text/html": [
              "\n",
              "  <div id=\"df-b731cd69-af8c-43b5-a32d-bb07b4ddd4ff\">\n",
              "    <div class=\"colab-df-container\">\n",
              "      <div>\n",
              "<style scoped>\n",
              "    .dataframe tbody tr th:only-of-type {\n",
              "        vertical-align: middle;\n",
              "    }\n",
              "\n",
              "    .dataframe tbody tr th {\n",
              "        vertical-align: top;\n",
              "    }\n",
              "\n",
              "    .dataframe thead th {\n",
              "        text-align: right;\n",
              "    }\n",
              "</style>\n",
              "<table border=\"1\" class=\"dataframe\">\n",
              "  <thead>\n",
              "    <tr style=\"text-align: right;\">\n",
              "      <th></th>\n",
              "      <th>Id</th>\n",
              "      <th>1</th>\n",
              "      <th>2</th>\n",
              "      <th>3</th>\n",
              "      <th>4</th>\n",
              "      <th>5</th>\n",
              "      <th>6</th>\n",
              "      <th>7</th>\n",
              "      <th>8</th>\n",
              "      <th>9</th>\n",
              "      <th>...</th>\n",
              "      <th>55</th>\n",
              "      <th>56</th>\n",
              "      <th>57</th>\n",
              "      <th>58</th>\n",
              "      <th>59</th>\n",
              "      <th>60</th>\n",
              "      <th>61</th>\n",
              "      <th>62</th>\n",
              "      <th>63</th>\n",
              "      <th>64</th>\n",
              "    </tr>\n",
              "  </thead>\n",
              "  <tbody>\n",
              "    <tr>\n",
              "      <th>0</th>\n",
              "      <td>1</td>\n",
              "      <td>0.1406</td>\n",
              "      <td>0.0625</td>\n",
              "      <td>0.0781</td>\n",
              "      <td>0.1094</td>\n",
              "      <td>0.0625</td>\n",
              "      <td>0.0312</td>\n",
              "      <td>0.0312</td>\n",
              "      <td>0.1406</td>\n",
              "      <td>0.0781</td>\n",
              "      <td>...</td>\n",
              "      <td>0.0625</td>\n",
              "      <td>0.1719</td>\n",
              "      <td>0.0781</td>\n",
              "      <td>0.0312</td>\n",
              "      <td>0.0625</td>\n",
              "      <td>0.1719</td>\n",
              "      <td>0.0781</td>\n",
              "      <td>0.1094</td>\n",
              "      <td>0.1406</td>\n",
              "      <td>0.1250</td>\n",
              "    </tr>\n",
              "    <tr>\n",
              "      <th>1</th>\n",
              "      <td>2</td>\n",
              "      <td>0.1250</td>\n",
              "      <td>0.1250</td>\n",
              "      <td>0.0781</td>\n",
              "      <td>0.0938</td>\n",
              "      <td>0.0625</td>\n",
              "      <td>0.0469</td>\n",
              "      <td>0.0625</td>\n",
              "      <td>0.1094</td>\n",
              "      <td>0.1406</td>\n",
              "      <td>...</td>\n",
              "      <td>0.0781</td>\n",
              "      <td>0.1406</td>\n",
              "      <td>0.1094</td>\n",
              "      <td>0.0625</td>\n",
              "      <td>0.0312</td>\n",
              "      <td>0.1406</td>\n",
              "      <td>0.0625</td>\n",
              "      <td>0.1406</td>\n",
              "      <td>0.1250</td>\n",
              "      <td>0.1406</td>\n",
              "    </tr>\n",
              "    <tr>\n",
              "      <th>2</th>\n",
              "      <td>3</td>\n",
              "      <td>0.1406</td>\n",
              "      <td>0.1719</td>\n",
              "      <td>0.0156</td>\n",
              "      <td>0.0781</td>\n",
              "      <td>0.1406</td>\n",
              "      <td>0.1094</td>\n",
              "      <td>0.0938</td>\n",
              "      <td>0.0469</td>\n",
              "      <td>0.0312</td>\n",
              "      <td>...</td>\n",
              "      <td>0.1406</td>\n",
              "      <td>0.0938</td>\n",
              "      <td>0.0938</td>\n",
              "      <td>0.0156</td>\n",
              "      <td>0.0625</td>\n",
              "      <td>0.0781</td>\n",
              "      <td>0.1562</td>\n",
              "      <td>0.0469</td>\n",
              "      <td>0.0781</td>\n",
              "      <td>0.1094</td>\n",
              "    </tr>\n",
              "    <tr>\n",
              "      <th>3</th>\n",
              "      <td>4</td>\n",
              "      <td>0.1406</td>\n",
              "      <td>0.0938</td>\n",
              "      <td>0.0781</td>\n",
              "      <td>0.1250</td>\n",
              "      <td>0.1250</td>\n",
              "      <td>0.0469</td>\n",
              "      <td>0.0312</td>\n",
              "      <td>0.0781</td>\n",
              "      <td>0.0938</td>\n",
              "      <td>...</td>\n",
              "      <td>0.0312</td>\n",
              "      <td>0.2031</td>\n",
              "      <td>0.1094</td>\n",
              "      <td>0.0469</td>\n",
              "      <td>0.0469</td>\n",
              "      <td>0.1875</td>\n",
              "      <td>0.1094</td>\n",
              "      <td>0.1562</td>\n",
              "      <td>0.1406</td>\n",
              "      <td>0.1875</td>\n",
              "    </tr>\n",
              "    <tr>\n",
              "      <th>4</th>\n",
              "      <td>5</td>\n",
              "      <td>0.2188</td>\n",
              "      <td>0.1094</td>\n",
              "      <td>0.1094</td>\n",
              "      <td>0.2031</td>\n",
              "      <td>0.1250</td>\n",
              "      <td>0.0625</td>\n",
              "      <td>0.0156</td>\n",
              "      <td>0.1094</td>\n",
              "      <td>0.1406</td>\n",
              "      <td>...</td>\n",
              "      <td>0.0312</td>\n",
              "      <td>0.0938</td>\n",
              "      <td>0.0781</td>\n",
              "      <td>0.0156</td>\n",
              "      <td>0.0312</td>\n",
              "      <td>0.1250</td>\n",
              "      <td>0.1719</td>\n",
              "      <td>0.0781</td>\n",
              "      <td>0.0625</td>\n",
              "      <td>0.1719</td>\n",
              "    </tr>\n",
              "  </tbody>\n",
              "</table>\n",
              "<p>5 rows × 65 columns</p>\n",
              "</div>\n",
              "      <button class=\"colab-df-convert\" onclick=\"convertToInteractive('df-b731cd69-af8c-43b5-a32d-bb07b4ddd4ff')\"\n",
              "              title=\"Convert this dataframe to an interactive table.\"\n",
              "              style=\"display:none;\">\n",
              "        \n",
              "  <svg xmlns=\"http://www.w3.org/2000/svg\" height=\"24px\"viewBox=\"0 0 24 24\"\n",
              "       width=\"24px\">\n",
              "    <path d=\"M0 0h24v24H0V0z\" fill=\"none\"/>\n",
              "    <path d=\"M18.56 5.44l.94 2.06.94-2.06 2.06-.94-2.06-.94-.94-2.06-.94 2.06-2.06.94zm-11 1L8.5 8.5l.94-2.06 2.06-.94-2.06-.94L8.5 2.5l-.94 2.06-2.06.94zm10 10l.94 2.06.94-2.06 2.06-.94-2.06-.94-.94-2.06-.94 2.06-2.06.94z\"/><path d=\"M17.41 7.96l-1.37-1.37c-.4-.4-.92-.59-1.43-.59-.52 0-1.04.2-1.43.59L10.3 9.45l-7.72 7.72c-.78.78-.78 2.05 0 2.83L4 21.41c.39.39.9.59 1.41.59.51 0 1.02-.2 1.41-.59l7.78-7.78 2.81-2.81c.8-.78.8-2.07 0-2.86zM5.41 20L4 18.59l7.72-7.72 1.47 1.35L5.41 20z\"/>\n",
              "  </svg>\n",
              "      </button>\n",
              "      \n",
              "  <style>\n",
              "    .colab-df-container {\n",
              "      display:flex;\n",
              "      flex-wrap:wrap;\n",
              "      gap: 12px;\n",
              "    }\n",
              "\n",
              "    .colab-df-convert {\n",
              "      background-color: #E8F0FE;\n",
              "      border: none;\n",
              "      border-radius: 50%;\n",
              "      cursor: pointer;\n",
              "      display: none;\n",
              "      fill: #1967D2;\n",
              "      height: 32px;\n",
              "      padding: 0 0 0 0;\n",
              "      width: 32px;\n",
              "    }\n",
              "\n",
              "    .colab-df-convert:hover {\n",
              "      background-color: #E2EBFA;\n",
              "      box-shadow: 0px 1px 2px rgba(60, 64, 67, 0.3), 0px 1px 3px 1px rgba(60, 64, 67, 0.15);\n",
              "      fill: #174EA6;\n",
              "    }\n",
              "\n",
              "    [theme=dark] .colab-df-convert {\n",
              "      background-color: #3B4455;\n",
              "      fill: #D2E3FC;\n",
              "    }\n",
              "\n",
              "    [theme=dark] .colab-df-convert:hover {\n",
              "      background-color: #434B5C;\n",
              "      box-shadow: 0px 1px 3px 1px rgba(0, 0, 0, 0.15);\n",
              "      filter: drop-shadow(0px 1px 2px rgba(0, 0, 0, 0.3));\n",
              "      fill: #FFFFFF;\n",
              "    }\n",
              "  </style>\n",
              "\n",
              "      <script>\n",
              "        const buttonEl =\n",
              "          document.querySelector('#df-b731cd69-af8c-43b5-a32d-bb07b4ddd4ff button.colab-df-convert');\n",
              "        buttonEl.style.display =\n",
              "          google.colab.kernel.accessAllowed ? 'block' : 'none';\n",
              "\n",
              "        async function convertToInteractive(key) {\n",
              "          const element = document.querySelector('#df-b731cd69-af8c-43b5-a32d-bb07b4ddd4ff');\n",
              "          const dataTable =\n",
              "            await google.colab.kernel.invokeFunction('convertToInteractive',\n",
              "                                                     [key], {});\n",
              "          if (!dataTable) return;\n",
              "\n",
              "          const docLinkHtml = 'Like what you see? Visit the ' +\n",
              "            '<a target=\"_blank\" href=https://colab.research.google.com/notebooks/data_table.ipynb>data table notebook</a>'\n",
              "            + ' to learn more about interactive tables.';\n",
              "          element.innerHTML = '';\n",
              "          dataTable['output_type'] = 'display_data';\n",
              "          await google.colab.output.renderOutput(dataTable, element);\n",
              "          const docLink = document.createElement('div');\n",
              "          docLink.innerHTML = docLinkHtml;\n",
              "          element.appendChild(docLink);\n",
              "        }\n",
              "      </script>\n",
              "    </div>\n",
              "  </div>\n",
              "  "
            ]
          },
          "metadata": {},
          "execution_count": 4
        }
      ]
    },
    {
      "cell_type": "code",
      "source": [
        "Xtr_vec.shape"
      ],
      "metadata": {
        "colab": {
          "base_uri": "https://localhost:8080/"
        },
        "id": "dU_Kl_-9GMeN",
        "outputId": "8d486368-8a3f-41cb-9458-2b1278fb0ac9"
      },
      "execution_count": 5,
      "outputs": [
        {
          "output_type": "execute_result",
          "data": {
            "text/plain": [
              "(2000, 65)"
            ]
          },
          "metadata": {},
          "execution_count": 5
        }
      ]
    },
    {
      "cell_type": "code",
      "source": [
        "Ytr.head()"
      ],
      "metadata": {
        "colab": {
          "base_uri": "https://localhost:8080/",
          "height": 206
        },
        "id": "vop5JZuqFnxn",
        "outputId": "369ebce2-ef4e-4e78-b4a6-2556899aa26c"
      },
      "execution_count": 6,
      "outputs": [
        {
          "output_type": "execute_result",
          "data": {
            "text/plain": [
              "   Id  Covid\n",
              "0   1      1\n",
              "1   2      1\n",
              "2   3      1\n",
              "3   4      1\n",
              "4   5      1"
            ],
            "text/html": [
              "\n",
              "  <div id=\"df-06b7c92e-5534-42d5-a713-5181d78d83ba\">\n",
              "    <div class=\"colab-df-container\">\n",
              "      <div>\n",
              "<style scoped>\n",
              "    .dataframe tbody tr th:only-of-type {\n",
              "        vertical-align: middle;\n",
              "    }\n",
              "\n",
              "    .dataframe tbody tr th {\n",
              "        vertical-align: top;\n",
              "    }\n",
              "\n",
              "    .dataframe thead th {\n",
              "        text-align: right;\n",
              "    }\n",
              "</style>\n",
              "<table border=\"1\" class=\"dataframe\">\n",
              "  <thead>\n",
              "    <tr style=\"text-align: right;\">\n",
              "      <th></th>\n",
              "      <th>Id</th>\n",
              "      <th>Covid</th>\n",
              "    </tr>\n",
              "  </thead>\n",
              "  <tbody>\n",
              "    <tr>\n",
              "      <th>0</th>\n",
              "      <td>1</td>\n",
              "      <td>1</td>\n",
              "    </tr>\n",
              "    <tr>\n",
              "      <th>1</th>\n",
              "      <td>2</td>\n",
              "      <td>1</td>\n",
              "    </tr>\n",
              "    <tr>\n",
              "      <th>2</th>\n",
              "      <td>3</td>\n",
              "      <td>1</td>\n",
              "    </tr>\n",
              "    <tr>\n",
              "      <th>3</th>\n",
              "      <td>4</td>\n",
              "      <td>1</td>\n",
              "    </tr>\n",
              "    <tr>\n",
              "      <th>4</th>\n",
              "      <td>5</td>\n",
              "      <td>1</td>\n",
              "    </tr>\n",
              "  </tbody>\n",
              "</table>\n",
              "</div>\n",
              "      <button class=\"colab-df-convert\" onclick=\"convertToInteractive('df-06b7c92e-5534-42d5-a713-5181d78d83ba')\"\n",
              "              title=\"Convert this dataframe to an interactive table.\"\n",
              "              style=\"display:none;\">\n",
              "        \n",
              "  <svg xmlns=\"http://www.w3.org/2000/svg\" height=\"24px\"viewBox=\"0 0 24 24\"\n",
              "       width=\"24px\">\n",
              "    <path d=\"M0 0h24v24H0V0z\" fill=\"none\"/>\n",
              "    <path d=\"M18.56 5.44l.94 2.06.94-2.06 2.06-.94-2.06-.94-.94-2.06-.94 2.06-2.06.94zm-11 1L8.5 8.5l.94-2.06 2.06-.94-2.06-.94L8.5 2.5l-.94 2.06-2.06.94zm10 10l.94 2.06.94-2.06 2.06-.94-2.06-.94-.94-2.06-.94 2.06-2.06.94z\"/><path d=\"M17.41 7.96l-1.37-1.37c-.4-.4-.92-.59-1.43-.59-.52 0-1.04.2-1.43.59L10.3 9.45l-7.72 7.72c-.78.78-.78 2.05 0 2.83L4 21.41c.39.39.9.59 1.41.59.51 0 1.02-.2 1.41-.59l7.78-7.78 2.81-2.81c.8-.78.8-2.07 0-2.86zM5.41 20L4 18.59l7.72-7.72 1.47 1.35L5.41 20z\"/>\n",
              "  </svg>\n",
              "      </button>\n",
              "      \n",
              "  <style>\n",
              "    .colab-df-container {\n",
              "      display:flex;\n",
              "      flex-wrap:wrap;\n",
              "      gap: 12px;\n",
              "    }\n",
              "\n",
              "    .colab-df-convert {\n",
              "      background-color: #E8F0FE;\n",
              "      border: none;\n",
              "      border-radius: 50%;\n",
              "      cursor: pointer;\n",
              "      display: none;\n",
              "      fill: #1967D2;\n",
              "      height: 32px;\n",
              "      padding: 0 0 0 0;\n",
              "      width: 32px;\n",
              "    }\n",
              "\n",
              "    .colab-df-convert:hover {\n",
              "      background-color: #E2EBFA;\n",
              "      box-shadow: 0px 1px 2px rgba(60, 64, 67, 0.3), 0px 1px 3px 1px rgba(60, 64, 67, 0.15);\n",
              "      fill: #174EA6;\n",
              "    }\n",
              "\n",
              "    [theme=dark] .colab-df-convert {\n",
              "      background-color: #3B4455;\n",
              "      fill: #D2E3FC;\n",
              "    }\n",
              "\n",
              "    [theme=dark] .colab-df-convert:hover {\n",
              "      background-color: #434B5C;\n",
              "      box-shadow: 0px 1px 3px 1px rgba(0, 0, 0, 0.15);\n",
              "      filter: drop-shadow(0px 1px 2px rgba(0, 0, 0, 0.3));\n",
              "      fill: #FFFFFF;\n",
              "    }\n",
              "  </style>\n",
              "\n",
              "      <script>\n",
              "        const buttonEl =\n",
              "          document.querySelector('#df-06b7c92e-5534-42d5-a713-5181d78d83ba button.colab-df-convert');\n",
              "        buttonEl.style.display =\n",
              "          google.colab.kernel.accessAllowed ? 'block' : 'none';\n",
              "\n",
              "        async function convertToInteractive(key) {\n",
              "          const element = document.querySelector('#df-06b7c92e-5534-42d5-a713-5181d78d83ba');\n",
              "          const dataTable =\n",
              "            await google.colab.kernel.invokeFunction('convertToInteractive',\n",
              "                                                     [key], {});\n",
              "          if (!dataTable) return;\n",
              "\n",
              "          const docLinkHtml = 'Like what you see? Visit the ' +\n",
              "            '<a target=\"_blank\" href=https://colab.research.google.com/notebooks/data_table.ipynb>data table notebook</a>'\n",
              "            + ' to learn more about interactive tables.';\n",
              "          element.innerHTML = '';\n",
              "          dataTable['output_type'] = 'display_data';\n",
              "          await google.colab.output.renderOutput(dataTable, element);\n",
              "          const docLink = document.createElement('div');\n",
              "          docLink.innerHTML = docLinkHtml;\n",
              "          element.appendChild(docLink);\n",
              "        }\n",
              "      </script>\n",
              "    </div>\n",
              "  </div>\n",
              "  "
            ]
          },
          "metadata": {},
          "execution_count": 6
        }
      ]
    },
    {
      "cell_type": "code",
      "source": [
        "# Visualize training target \n",
        "sns.countplot(x=\"Covid\", data=Ytr)"
      ],
      "metadata": {
        "colab": {
          "base_uri": "https://localhost:8080/",
          "height": 297
        },
        "id": "junuZ5utIeTl",
        "outputId": "1d2fcbfb-69d8-447a-f8a4-28e6d97a781a"
      },
      "execution_count": 7,
      "outputs": [
        {
          "output_type": "execute_result",
          "data": {
            "text/plain": [
              "<matplotlib.axes._subplots.AxesSubplot at 0x7f073974c850>"
            ]
          },
          "metadata": {},
          "execution_count": 7
        },
        {
          "output_type": "display_data",
          "data": {
            "text/plain": [
              "<Figure size 432x288 with 1 Axes>"
            ],
            "image/png": "[encoded data removed]"
          },
          "metadata": {
            "needs_background": "light"
          }
        }
      ]
    },
    {
      "cell_type": "markdown",
      "source": [
        "Change the target from {0,1} to {-1,1} because the algorithms were writting for case where y={-1,1}"
      ],
      "metadata": {
        "id": "lUfJW8s28CMm"
      }
    },
    {
      "cell_type": "code",
      "source": [
        "Ytr['Covid'] = 2*Ytr['Covid']-1"
      ],
      "metadata": {
        "id": "GhcMlcbVYBS0"
      },
      "execution_count": 8,
      "outputs": []
    },
    {
      "cell_type": "markdown",
      "source": [
        "## Build  model"
      ],
      "metadata": {
        "id": "TjqD3qYKJYrz"
      }
    },
    {
      "cell_type": "code",
      "source": [
        "# First drop the \"Id\" column\n",
        "Xtr_vec=Xtr_vec.drop(['Id'],axis=1)\n",
        "# Split the dataset into training set and validation set\n",
        "from sklearn.model_selection import train_test_split\n",
        "X_train, X_test, y_train, y_test = train_test_split(\n",
        "    Xtr_vec, Ytr['Covid'], test_size=0.33, random_state=42)\n",
        "X_train.shape, y_train.shape"
      ],
      "metadata": {
        "colab": {
          "base_uri": "https://localhost:8080/"
        },
        "id": "rBlbOyjYMHGv",
        "outputId": "7dc3952b-e755-45f4-f80a-369a74b8d678"
      },
      "execution_count": 9,
      "outputs": [
        {
          "output_type": "execute_result",
          "data": {
            "text/plain": [
              "((1340, 64), (1340,))"
            ]
          },
          "metadata": {},
          "execution_count": 9
        }
      ]
    },
    {
      "cell_type": "markdown",
      "source": [
        "### 1.Logistic Ridge Regression with gradient descent (GD)"
      ],
      "metadata": {
        "id": "F0I6MnlWG5ps"
      }
    },
    {
      "cell_type": "code",
      "source": [
        "# Logistic Ridge Regression (LRR) with gradient descent (GD)\n",
        "def solveLRR_gradient(y, X, lam, h=0.01, max_iter=500, eps=1e-3):\n",
        "    '''\n",
        "    lam: Regularization parameter\n",
        "    max_iter: Max number of iterations of gradient descent\n",
        "    eps: Tolerance for stopping criteria \n",
        "    '''\n",
        "    n, p = X.shape\n",
        "    assert (len(y) == n)\n",
        "    \n",
        "    beta_old = np.zeros(p)\n",
        "    \n",
        "    def sigmoid(x):\n",
        "        return 1 / (1 + np.exp(-x))\n",
        "            \n",
        "    for i in range(max_iter):\n",
        "        # yi beta^T xi\n",
        "        f = (X * y[:, None]).dot(beta_old)\n",
        "        gradient = - 1 / n * (y * sigmoid(-f)).dot(X)\n",
        "        gradient += 2 * lam * beta_old\n",
        "        \n",
        "        # Step\n",
        "        beta_new = beta_old - h * gradient\n",
        "        \n",
        "        if np.sum((beta_new-beta_old)**2) < eps:\n",
        "            break\n",
        "        beta_old = beta_new\n",
        "           \n",
        "    return (beta_new)"
      ],
      "metadata": {
        "id": "jEbkt53zGiRE"
      },
      "execution_count": 10,
      "outputs": []
    },
    {
      "cell_type": "code",
      "source": [
        "# Fit LRR and compute its parameters\n",
        "lam = 0.0001\n",
        "beta = solveLRR_gradient(y_train, X_train, lam)"
      ],
      "metadata": {
        "colab": {
          "base_uri": "https://localhost:8080/"
        },
        "id": "3YLQWsBO93e2",
        "outputId": "68570a8b-a462-4d68-8cb7-356dc8405fd6"
      },
      "execution_count": 11,
      "outputs": [
        {
          "output_type": "stream",
          "name": "stderr",
          "text": [
            "/usr/local/lib/python3.7/dist-packages/ipykernel_launcher.py:18: FutureWarning: Support for multi-dimensional indexing (e.g. `obj[:, None]`) is deprecated and will be removed in a future version.  Convert to a numpy array before indexing instead.\n"
          ]
        }
      ]
    },
    {
      "cell_type": "code",
      "source": [
        "# Compute predicted probabilities and classes\n",
        "def sigmoid(x):\n",
        "    return 1 / (1 + np.exp(-x))\n",
        "\n",
        "probas_pred_train = sigmoid(X_train.dot(beta))\n",
        "probas_pred = sigmoid(X_test.dot(beta))\n",
        "\n",
        "y_pred_train=np.where(probas_pred_train<0.5,-1,1)\n",
        "y_pred = np.where(probas_pred<0.5,-1,1)\n",
        "\n",
        "#Evaluation\n",
        "\n",
        "print(\"Our model's performance:\")\n",
        "print('Train Accuracy: {:.2%}'.format(accuracy_score(y_train, y_pred_train)))\n",
        "print('Validation Accuracy: {:.2%}'.format(accuracy_score(y_test, y_pred)))"
      ],
      "metadata": {
        "colab": {
          "base_uri": "https://localhost:8080/"
        },
        "id": "86afq8eI93WA",
        "outputId": "8908e1fe-41cd-4265-e1d5-b51e0a2e0838"
      },
      "execution_count": 12,
      "outputs": [
        {
          "output_type": "stream",
          "name": "stdout",
          "text": [
            "Our model's performance:\n",
            "Train Accuracy: 78.43%\n",
            "Validation Accuracy: 80.00%\n"
          ]
        }
      ]
    },
    {
      "cell_type": "markdown",
      "source": [
        "### 2.Logistic Ridge Regression with Newton-Raphson"
      ],
      "metadata": {
        "id": "YCnW_QpI-c4R"
      }
    },
    {
      "cell_type": "code",
      "source": [
        "# Ridge Regression (RR)\n",
        "def solveRR(y, X, lam):\n",
        "    n, p = X.shape\n",
        "    assert (len(y) == n)\n",
        "    \n",
        "    A = X.T.dot(X)\n",
        "    A += n * lam * np.eye(p)\n",
        "    b = X.T.dot(y)\n",
        "    beta = np.linalg.solve(A, b)\n",
        "    return (beta)\n",
        "\n",
        "# Weighted Ridge Regression (WRR)\n",
        "def solveWRR(y, X, w, lam):\n",
        "    n, p = X.shape\n",
        "    assert (len(y) == len(w) == n)\n",
        "    w_sqrt = np.sqrt(w)\n",
        "    \n",
        "    y1 = w_sqrt * y\n",
        "    X1 = X * w_sqrt[:, None] \n",
        "    \n",
        "    beta = solveRR(y1, X1, lam)\n",
        "    return (beta)"
      ],
      "metadata": {
        "id": "ReWNzOvgPo4G"
      },
      "execution_count": 13,
      "outputs": []
    },
    {
      "cell_type": "code",
      "source": [
        "def solveLRR_newton(y, X, lam, max_iter=500, eps=1e-12):\n",
        "    n, p = X.shape\n",
        "    assert (len(y) == n)\n",
        "    \n",
        "    # Parameters\n",
        "    max_iter = 500\n",
        "    eps = 1e-3\n",
        "    sigmoid = lambda a: 1/(1 + np.exp(-a))\n",
        "    \n",
        "    # Initialize\n",
        "    beta = np.zeros(p)\n",
        "            \n",
        "    # Hint: Use IRLS\n",
        "    for i in range(max_iter):\n",
        "        beta_old = beta\n",
        "        f = X.dot(beta_old)\n",
        "        w = sigmoid(f) * sigmoid(-f)\n",
        "        z = f + y / sigmoid(y*f)\n",
        "        beta = solveWRR(z, X, w, 2*lam)\n",
        "        # Break condition (achieved convergence)\n",
        "        if np.sum((beta-beta_old)**2) < eps:\n",
        "            break\n",
        "    return (beta)"
      ],
      "metadata": {
        "id": "hSgK_XPLJhti"
      },
      "execution_count": 14,
      "outputs": []
    },
    {
      "cell_type": "code",
      "source": [
        "# Fit our model and compute its parameters\n",
        "lam = 0.0001\n",
        "beta = solveLRR_newton(y_train, X_train, lam)"
      ],
      "metadata": {
        "colab": {
          "base_uri": "https://localhost:8080/"
        },
        "id": "SuSqy7t0MYvC",
        "outputId": "3a259ccd-8499-41b0-cd68-ab194cd0dc8c"
      },
      "execution_count": 16,
      "outputs": [
        {
          "output_type": "stream",
          "name": "stderr",
          "text": [
            "/usr/local/lib/python3.7/dist-packages/ipykernel_launcher.py:19: FutureWarning: Support for multi-dimensional indexing (e.g. `obj[:, None]`) is deprecated and will be removed in a future version.  Convert to a numpy array before indexing instead.\n"
          ]
        }
      ]
    },
    {
      "cell_type": "code",
      "source": [
        "# Compute predicted probabilities and classes\n",
        "def sigmoid(x):\n",
        "    return 1 / (1 + np.exp(-x))\n",
        "\n",
        "probas_pred_train = sigmoid(X_train.dot(beta))\n",
        "probas_pred = sigmoid(X_test.dot(beta))\n",
        "\n",
        "y_pred_train=np.where(probas_pred_train<0.5,-1,1)\n",
        "y_pred = np.where(probas_pred<0.5,-1,1)\n",
        "\n",
        "#Evaluation\n",
        "\n",
        "print(\"Our model's performance:\")\n",
        "print('Train Accuracy: {:.2%}'.format(accuracy_score(y_train, y_pred_train)))\n",
        "print('Validation Accuracy: {:.2%}'.format(accuracy_score(y_test, y_pred)))"
      ],
      "metadata": {
        "colab": {
          "base_uri": "https://localhost:8080/"
        },
        "id": "2MZElmMSMj3-",
        "outputId": "5443bf4f-9316-4ed7-9037-30902f56194a"
      },
      "execution_count": 17,
      "outputs": [
        {
          "output_type": "stream",
          "name": "stdout",
          "text": [
            "Our model's performance:\n",
            "Train Accuracy: 94.93%\n",
            "Validation Accuracy: 95.15%\n"
          ]
        }
      ]
    },
    {
      "cell_type": "markdown",
      "source": [
        "### Kernel Logistic Regression"
      ],
      "metadata": {
        "id": "J3u8wjGkYe3K"
      }
    },
    {
      "cell_type": "markdown",
      "source": [
        "#### Example of kernel (linear, polynomial, rbf)"
      ],
      "metadata": {
        "id": "3q0dLp1iY_kj"
      }
    },
    {
      "cell_type": "code",
      "source": [
        "def linear_kernel(X1, X2):\n",
        "    '''\n",
        "    Returns the kernel matrix K(X1_i, X2_j): size (n1, n2)\n",
        "    where K is the linear kernel\n",
        "    \n",
        "    Input:\n",
        "    ------\n",
        "    X1: an (n1, p) matrix\n",
        "    X2: an (n2, p) matrix\n",
        "    '''\n",
        "    return X1@X2.T\n",
        "\n",
        "def polynomial_kernel(X1, X2, degree=2):\n",
        "    '''\n",
        "    Returns the kernel matrix K(X1_i, X2_j): size (n1, n2)\n",
        "    where K is the polynomial kernel of degree `degree`\n",
        "    \n",
        "    Input:\n",
        "    ------\n",
        "    X1: an (n1, p) matrix\n",
        "    X2: an (n2, p) matrix\n",
        "    '''\n",
        "    return (1+linear_kernel(X1, X2))**degree\n",
        "\n",
        "\n",
        "def rbf_kernel(X1, X2, sigma=0.5):\n",
        "    '''\n",
        "    Returns the kernel matrix K(X1_i, X2_j): size (n1, n2)\n",
        "    where K is the RBF kernel with parameter sigma\n",
        "    \n",
        "    Input:\n",
        "    ------\n",
        "    X1: an (n1, p) matrix\n",
        "    X2: an (n2, p) matrix\n",
        "    sigma: float\n",
        "    '''\n",
        "    # For loop with rbf_kernel_element works but is slow in python\n",
        "    # Use matrix operations!\n",
        "    X2_norm = np.sum(X2 ** 2, axis = -1)\n",
        "    X1_norm = np.sum(X1 ** 2, axis = -1)\n",
        "    gamma = 1 / (2 * sigma ** 2)\n",
        "    K = np.exp(- gamma * (X1_norm[:, None] + X2_norm[None, :] - 2 * np.dot(X1, X2.T)))\n",
        "    return K"
      ],
      "metadata": {
        "id": "k8XtvG-uY29G"
      },
      "execution_count": 19,
      "outputs": []
    },
    {
      "cell_type": "code",
      "source": [
        "class KernelMethodBase(object):\n",
        "    '''\n",
        "    Base class for kernel methods models\n",
        "    \n",
        "    Methods\n",
        "    ----\n",
        "    fit\n",
        "    predict\n",
        "    fit_K\n",
        "    predict_K\n",
        "    '''\n",
        "    kernels_ = {\n",
        "        'linear': linear_kernel,\n",
        "        'polynomial': polynomial_kernel,\n",
        "        'rbf': rbf_kernel,\n",
        "        # 'mismatch': mismatch_kernel,\n",
        "    }\n",
        "    def __init__(self, kernel='linear', **kwargs):\n",
        "        self.kernel_name = kernel\n",
        "        self.kernel_function_ = self.kernels_[kernel]\n",
        "        self.kernel_parameters = self.get_kernel_parameters(**kwargs)\n",
        "        self.fit_intercept_ = False\n",
        "        \n",
        "    def get_kernel_parameters(self, **kwargs):\n",
        "        params = {}\n",
        "        if self.kernel_name == 'rbf':\n",
        "            params['sigma'] = kwargs.get('sigma', 1.)\n",
        "        if self.kernel_name == 'polynomial':\n",
        "            params['degree'] = kwargs.get('degree', 2)\n",
        "        return params\n",
        "\n",
        "    def fit_K(self, K, y, **kwargs):\n",
        "        pass\n",
        "        \n",
        "    def decision_function_K(self, K):\n",
        "        pass\n",
        "    \n",
        "    def fit(self, X, y, fit_intercept=False, **kwargs):\n",
        "\n",
        "        if fit_intercept:\n",
        "            X = add_column_ones(X)\n",
        "            self.fit_intercept_ = True\n",
        "        self.X_train = X\n",
        "        self.y_train = y\n",
        "\n",
        "        K = self.kernel_function_(self.X_train, self.X_train, **self.kernel_parameters)\n",
        "\n",
        "        return self.fit_K(K, y, **kwargs)\n",
        "    \n",
        "    def decision_function(self, X):\n",
        "\n",
        "        if self.fit_intercept_:\n",
        "            X = add_column_ones(X)\n",
        "\n",
        "        K_x = self.kernel_function_(X, self.X_train, **self.kernel_parameters)\n",
        "\n",
        "        return self.decision_function_K(K_x)\n",
        "\n",
        "    def predict(self, X):\n",
        "        pass\n",
        "    \n",
        "    def predict_K(self, K):\n",
        "        pass"
      ],
      "metadata": {
        "id": "vQu7Ep-nYvQ6"
      },
      "execution_count": 20,
      "outputs": []
    },
    {
      "cell_type": "code",
      "source": [
        "class KernelRidgeRegression(KernelMethodBase):\n",
        "    '''\n",
        "    Kernel Ridge Regression\n",
        "    '''\n",
        "    def __init__(self, lambd=0.1, **kwargs):\n",
        "        self.lambd = lambd\n",
        "        # Python 3: replace the following line by\n",
        "        # super().__init__(**kwargs)\n",
        "        super(KernelRidgeRegression, self).__init__(**kwargs)\n",
        "\n",
        "    def fit_K(self, K, y, sample_weights=None):\n",
        "        n = K.shape[0]\n",
        "        assert (n == len(y))\n",
        "        \n",
        "        w_sqrt = np.ones_like(y) if sample_weights is None else sample_weights\n",
        "        w_sqrt = np.sqrt(w_sqrt)\n",
        "\n",
        "        # Rescale kernel matrix K to take weights into account\n",
        "        A = K * w_sqrt * w_sqrt[:, None]\n",
        "        # Add lambda to the diagonal of A (= add lambda*I):\n",
        "        A += n * lambd * np.eye(n)\n",
        "        # self.alpha = (K + n * lambda I)^-1 y\n",
        "        self.alpha = w_sqrt * np.linalg.solve(A , y * w_sqrt)\n",
        "\n",
        "        return self\n",
        "    \n",
        "    def decision_function_K(self, K_x):\n",
        "        return self.alpha@K_x.T #K_x.dot(self.alpha)\n",
        "    \n",
        "    def predict(self, X):\n",
        "        return self.decision_function(X)\n",
        "    \n",
        "    def predict_K(self, K_x):\n",
        "        return self.decision_function_K(K_x)"
      ],
      "metadata": {
        "id": "hLTsr7DuaDAp"
      },
      "execution_count": 21,
      "outputs": []
    },
    {
      "cell_type": "code",
      "source": [
        "def sigmoid(x):\n",
        "    # return 1 / (1 + np.exp(-x))\n",
        "# tanh version helps avoid overflow problems\n",
        "    return .5 * (1 + np.tanh(.5 * x))\n",
        "\n",
        "class KernelLogisticRegression(KernelMethodBase):\n",
        "    '''\n",
        "    Kernel Logistic Regression\n",
        "    '''\n",
        "    def __init__(self, lambd=0.001, **kwargs):\n",
        "\n",
        "        self.lambd = lambd\n",
        "        super().__init__(**kwargs)\n",
        "        \n",
        "    \n",
        "    def fit_K(self, K, y, method='gradient', lr=0.1, max_iter=500, tol=1e-12):\n",
        "        '''\n",
        "        Find the dual variables alpha\n",
        "        '''\n",
        "        if method == 'gradient':\n",
        "            self.fit_alpha_gradient_(K, y, lr=lr, max_iter=max_iter, tol=tol)\n",
        "        elif method == 'newton':\n",
        "            self.fit_alpha_newton_(K, y, max_iter=max_iter, tol=tol)\n",
        "            \n",
        "        return self\n",
        "        \n",
        "    def fit_alpha_gradient_(self, K, y, lr=0.01, max_iter=500, tol=1e-6):\n",
        "        '''\n",
        "        Finds the alpha of logistic regression by gradient descent\n",
        "        \n",
        "        lr: learning rate\n",
        "        max_iter: Max number of iterations\n",
        "        tol: Tolerance wrt. optimal solution\n",
        "        '''\n",
        "        n = K.shape[0]\n",
        "        # Initialize\n",
        "        alpha = np.zeros(n)\n",
        "        # Iterate until convergence or max iterations\n",
        "        for n_iter in range(max_iter):\n",
        "            alpha_old = alpha\n",
        "            M = y*sigmoid(-y*K@alpha)\n",
        "            gradient = -(1/n) *K@M +2*self.lambd*K@alpha\n",
        "            alpha = alpha_old - lr * gradient\n",
        "            # Break condition (achieved convergence)\n",
        "            if np.sum((alpha-alpha_old)**2) < tol**2:\n",
        "                break\n",
        "        self.n_iter = n_iter\n",
        "        self.alpha = alpha\n",
        "\n",
        "    def fit_alpha_newton_(self, K, y, max_iter=500, tol=1e-6):\n",
        "        '''\n",
        "        Finds the alpha of logistic regression by the Newton-Raphson method\n",
        "        and Iterated Least Squares\n",
        "        '''\n",
        "        n = K.shape[0]\n",
        "        # IRLS\n",
        "        KRR = KernelRidgeRegression(lambd=2*self.lambd)\n",
        "        # Initialize\n",
        "        alpha = np.zeros(n)\n",
        "        # Iterate until convergence or max iterations\n",
        "        for n_iter in range(max_iter):\n",
        "            alpha_old = alpha\n",
        "            m = K.dot(alpha_old)\n",
        "            w = sigmoid(m) * sigmoid(-m)\n",
        "            z = m + y / sigmoid(y * m)\n",
        "            alpha = KRR.fit_K(K, z, sample_weights=w).alpha\n",
        "            # Break condition (achieved convergence)\n",
        "            if np.sum((alpha-alpha_old)**2) < tol**2:\n",
        "                break\n",
        "        self.n_iter = n_iter\n",
        "        self.alpha = alpha\n",
        "        \n",
        "    def decision_function_K(self, K_x):\n",
        "        # print('K', K_x.shape, 'alpha', self.alpha.shape)\n",
        "        return sigmoid(K_x@self.alpha)\n",
        "        \n",
        "    def predict(self, X):\n",
        "        return np.sign(2*self.decision_function(X)-1)"
      ],
      "metadata": {
        "id": "F_mkNMTYPKJD"
      },
      "execution_count": 22,
      "outputs": []
    },
    {
      "cell_type": "code",
      "source": [
        "# Prediction error\n",
        "def error(ypred, ytrue):\n",
        "    e = (ypred != ytrue).mean()\n",
        "    return e\n",
        "    \n",
        "def add_column_ones(X):\n",
        "    n = X.shape[0]\n",
        "    return np.hstack([X, np.ones((n, 1))])"
      ],
      "metadata": {
        "id": "PQ5WGjAFZdIc"
      },
      "execution_count": 23,
      "outputs": []
    },
    {
      "cell_type": "code",
      "source": [
        "# Use the 'median Heuristic ' to find sigma\n",
        "def sigma_from_median(X):\n",
        "    '''\n",
        "    Returns the median of ||Xi-Xj||\n",
        "    \n",
        "    Input\n",
        "    -----\n",
        "    X: (n, p) matrix\n",
        "    '''\n",
        "    pairwise_diff = X[:, :, None] - X[:, :, None].T\n",
        "    pairwise_diff *= pairwise_diff\n",
        "    euclidean_dist = np.sqrt(pairwise_diff.sum(axis=1))\n",
        "    return np.median(euclidean_dist)\n",
        "\n",
        "sig=sigma_from_median(X_train.to_numpy())\n",
        "sig"
      ],
      "metadata": {
        "colab": {
          "base_uri": "https://localhost:8080/"
        },
        "id": "Z9A6pStAbWCf",
        "outputId": "82ebfb9e-1ba3-4530-96be-0e61d2587708"
      },
      "execution_count": 24,
      "outputs": [
        {
          "output_type": "execute_result",
          "data": {
            "text/plain": [
              "0.4688434386871591"
            ]
          },
          "metadata": {},
          "execution_count": 24
        }
      ]
    },
    {
      "cell_type": "code",
      "source": [
        "kernel = 'rbf'\n",
        "sigma = .46\n",
        "lambd = .001\n",
        "degree = 3\n",
        "intercept = False\n",
        "\n",
        "kernel_parameters = {\n",
        "    'degree': 2,\n",
        "    'sigma': 0.46,\n",
        "}\n",
        "lambd = 0.0001#0.001\n",
        "\n",
        "training_parameters = {\n",
        "    'fit_intercept': False,\n",
        "    'lr': 0.1,\n",
        "    'method': 'newton'\n",
        "}\n",
        "\n",
        "klr_model = KernelLogisticRegression(lambd=lambd, kernel=kernel, **kernel_parameters)\n",
        "\n",
        "klr_model.fit(X_train.to_numpy(), y_train.to_numpy(), **training_parameters)\n",
        "# print('train', X_train.shape)\n",
        "y_pred_train=klr_model.predict(X_train.to_numpy())\n",
        "y_pred = klr_model.predict(X_test.to_numpy())\n",
        "\n",
        "# fig_title = 'Logistic Regression, {} Kernel'.format(kernel)\n",
        "# plot_decision_function(model, X_train, y_train, title=fig_title, add_intercept=intercept)\n",
        "print('Test error: {:.2%}'.format(error(y_pred, y_test)))"
      ],
      "metadata": {
        "colab": {
          "base_uri": "https://localhost:8080/"
        },
        "id": "2NmsccsjYm8D",
        "outputId": "1f8f0ccf-1153-4f92-e0c3-2cc3ed2109eb"
      },
      "execution_count": 25,
      "outputs": [
        {
          "output_type": "stream",
          "name": "stdout",
          "text": [
            "Test error: 3.79%\n"
          ]
        }
      ]
    },
    {
      "cell_type": "code",
      "source": [
        "print(\"Kernel Logistic Regression performance:\")\n",
        "print('Train Accuracy: {:.2%}'.format(accuracy_score(y_train, y_pred_train)))\n",
        "print('Validation Accuracy: {:.2%}'.format(accuracy_score(y_test, y_pred)))"
      ],
      "metadata": {
        "colab": {
          "base_uri": "https://localhost:8080/"
        },
        "id": "-eKCJ3Q7Zd-J",
        "outputId": "04e1fdc3-6e92-427d-cae2-da01d8d28755"
      },
      "execution_count": 26,
      "outputs": [
        {
          "output_type": "stream",
          "name": "stdout",
          "text": [
            "Kernel Logistic Regression performance:\n",
            "Train Accuracy: 97.46%\n",
            "Validation Accuracy: 96.21%\n"
          ]
        }
      ]
    },
    {
      "cell_type": "markdown",
      "source": [
        "### Kernel SVM"
      ],
      "metadata": {
        "id": "bo7HHOrAl70w"
      }
    },
    {
      "cell_type": "code",
      "source": [
        "import cvxopt\n",
        "\n",
        "def cvxopt_qp(P, q, G, h, A, b):\n",
        "    P = .5 * (P + P.T)\n",
        "    cvx_matrices = [\n",
        "        cvxopt.matrix(M) if M is not None else None for M in [P, q, G, h, A, b] \n",
        "    ]\n",
        "    #cvxopt.solvers.options['show_progress'] = False\n",
        "    solution = cvxopt.solvers.qp(*cvx_matrices, options={'show_progress': False})\n",
        "    return np.array(solution['x']).flatten()\n",
        "\n",
        "solve_qp = cvxopt_qp"
      ],
      "metadata": {
        "id": "l1eii_FmgsM-"
      },
      "execution_count": 28,
      "outputs": []
    },
    {
      "cell_type": "code",
      "source": [
        "def svm_dual_soft_to_qp_kernel(K, y, C=100.):\n",
        "    n = K.shape[0]\n",
        "    assert (len(y) == n)\n",
        "        \n",
        "    # Dual formulation, soft margin\n",
        "    P = np.diag(y) @ K @ np.diag(y)\n",
        "    # As a regularization, we add epsilon * identity to P\n",
        "    eps = 1e-3\n",
        "    P=P.astype(float)\n",
        "    P += eps * np.eye(n)\n",
        "    q = - np.ones(n)\n",
        "    G = np.vstack([-np.eye(n), np.eye(n)])\n",
        "    h = np.hstack([np.zeros(n), C * np.ones(n)])\n",
        "    A = y[np.newaxis, :]\n",
        "    A=A.astype(float)\n",
        "    b = np.array([0.])\n",
        "    return P, q, G, h, A, b\n",
        "\n",
        "K = linear_kernel(X_train.to_numpy(), X_train.to_numpy())\n",
        "alphas = solve_qp(*svm_dual_soft_to_qp_kernel(K, y_train.to_numpy(), C=100.))"
      ],
      "metadata": {
        "id": "27aX-Z6Tj7jB"
      },
      "execution_count": 29,
      "outputs": []
    },
    {
      "cell_type": "code",
      "source": [
        "class KernelSVM(KernelMethodBase):\n",
        "    '''\n",
        "    Kernel SVM Classification\n",
        "    \n",
        "    Methods\n",
        "    ----\n",
        "    fit\n",
        "    predict\n",
        "    '''\n",
        "    def __init__(self, C=100, **kwargs):\n",
        "        self.C = C\n",
        "        super().__init__(**kwargs)\n",
        "    \n",
        "    def fit_K(self, K, y, tol=1e-3):\n",
        "        # Solve dual problem\n",
        "        self.alpha = solve_qp(*svm_dual_soft_to_qp_kernel(K, y, C=self.C))\n",
        "        \n",
        "        # Compute support vectors and bias b\n",
        "        sv = np.logical_and((self.alpha > tol), (self.C - self.alpha > tol))\n",
        "        self.bias = y[sv] - K[sv].dot(self.alpha * y)\n",
        "        self.bias = self.bias.mean()\n",
        "\n",
        "        self.support_vector_indices = np.nonzero(sv)[0]\n",
        "        self.y_train=y \n",
        "        \n",
        "        return self\n",
        "\n",
        "    def decision_function_K(self, K_x):\n",
        "        return K_x.dot(self.alpha*self.y_train)+self.bias\n",
        "\n",
        "    def predict(self, X):\n",
        "        return np.sign(self.decision_function(X))"
      ],
      "metadata": {
        "id": "8H8sBWKPj7fP"
      },
      "execution_count": 30,
      "outputs": []
    },
    {
      "cell_type": "code",
      "source": [
        "kernel = 'rbf'\n",
        "sigma = 0.46\n",
        "degree = 2\n",
        "C = 100.0 #1\n",
        "tol = 1e-3\n",
        "model = KernelSVM(C=C, kernel=kernel, sigma=sigma, degree=degree)\n",
        "y_pred_train = model.fit(X_train.to_numpy(), y_train.to_numpy(), tol=tol).predict(X_train.to_numpy())\n",
        "y_pred = model.fit(X_train.to_numpy(), y_train.to_numpy(), tol=tol).predict(X_test.to_numpy())"
      ],
      "metadata": {
        "id": "XP9sFuMfj7Ut"
      },
      "execution_count": 31,
      "outputs": []
    },
    {
      "cell_type": "code",
      "source": [
        "print('Train Accuracy: {:.2%}'.format(accuracy_score(y_train, y_pred_train)))\n",
        "print('Validation Accuracy: {:.2%}'.format(accuracy_score(y_test, y_pred)))"
      ],
      "metadata": {
        "colab": {
          "base_uri": "https://localhost:8080/"
        },
        "id": "h52xpRDRmR9r",
        "outputId": "60a6c903-e4e5-458e-96f8-28c089f3383a"
      },
      "execution_count": 32,
      "outputs": [
        {
          "output_type": "stream",
          "name": "stdout",
          "text": [
            "Train Accuracy: 100.00%\n",
            "Validation Accuracy: 95.76%\n"
          ]
        }
      ]
    },
    {
      "cell_type": "markdown",
      "source": [
        "### Predictions using the test dataset"
      ],
      "metadata": {
        "id": "waaZL8Ic34jo"
      }
    },
    {
      "cell_type": "code",
      "source": [
        "#drop the \"Id\" columns from the test set\n",
        "Xte_vec=Xte_vec.drop(['Id'],axis=1) "
      ],
      "metadata": {
        "id": "U6r2dRK44c0c"
      },
      "execution_count": 33,
      "outputs": []
    },
    {
      "cell_type": "code",
      "source": [
        "pred=klr_model.predict(Xte_vec.to_numpy())\n",
        "pred = pd.DataFrame(pred)\n",
        "pred.columns=['Covid']\n",
        "pred['Id']=Xte['Id']\n",
        "prediction = pd.DataFrame()\n",
        "prediction['Id']=pred['Id']\n",
        "prediction['Covid']=pred['Covid']\n",
        "prediction.head()"
      ],
      "metadata": {
        "colab": {
          "base_uri": "https://localhost:8080/",
          "height": 206
        },
        "id": "GQlMcgTS3zvk",
        "outputId": "576e773d-cbb7-40dc-b3a5-4dff6193a48b"
      },
      "execution_count": 34,
      "outputs": [
        {
          "output_type": "execute_result",
          "data": {
            "text/plain": [
              "   Id  Covid\n",
              "0   1   -1.0\n",
              "1   2    1.0\n",
              "2   3    1.0\n",
              "3   4   -1.0\n",
              "4   5    1.0"
            ],
            "text/html": [
              "\n",
              "  <div id=\"df-d20a5a89-4238-413d-a40d-f97144f2d2f7\">\n",
              "    <div class=\"colab-df-container\">\n",
              "      <div>\n",
              "<style scoped>\n",
              "    .dataframe tbody tr th:only-of-type {\n",
              "        vertical-align: middle;\n",
              "    }\n",
              "\n",
              "    .dataframe tbody tr th {\n",
              "        vertical-align: top;\n",
              "    }\n",
              "\n",
              "    .dataframe thead th {\n",
              "        text-align: right;\n",
              "    }\n",
              "</style>\n",
              "<table border=\"1\" class=\"dataframe\">\n",
              "  <thead>\n",
              "    <tr style=\"text-align: right;\">\n",
              "      <th></th>\n",
              "      <th>Id</th>\n",
              "      <th>Covid</th>\n",
              "    </tr>\n",
              "  </thead>\n",
              "  <tbody>\n",
              "    <tr>\n",
              "      <th>0</th>\n",
              "      <td>1</td>\n",
              "      <td>-1.0</td>\n",
              "    </tr>\n",
              "    <tr>\n",
              "      <th>1</th>\n",
              "      <td>2</td>\n",
              "      <td>1.0</td>\n",
              "    </tr>\n",
              "    <tr>\n",
              "      <th>2</th>\n",
              "      <td>3</td>\n",
              "      <td>1.0</td>\n",
              "    </tr>\n",
              "    <tr>\n",
              "      <th>3</th>\n",
              "      <td>4</td>\n",
              "      <td>-1.0</td>\n",
              "    </tr>\n",
              "    <tr>\n",
              "      <th>4</th>\n",
              "      <td>5</td>\n",
              "      <td>1.0</td>\n",
              "    </tr>\n",
              "  </tbody>\n",
              "</table>\n",
              "</div>\n",
              "      <button class=\"colab-df-convert\" onclick=\"convertToInteractive('df-d20a5a89-4238-413d-a40d-f97144f2d2f7')\"\n",
              "              title=\"Convert this dataframe to an interactive table.\"\n",
              "              style=\"display:none;\">\n",
              "        \n",
              "  <svg xmlns=\"http://www.w3.org/2000/svg\" height=\"24px\"viewBox=\"0 0 24 24\"\n",
              "       width=\"24px\">\n",
              "    <path d=\"M0 0h24v24H0V0z\" fill=\"none\"/>\n",
              "    <path d=\"M18.56 5.44l.94 2.06.94-2.06 2.06-.94-2.06-.94-.94-2.06-.94 2.06-2.06.94zm-11 1L8.5 8.5l.94-2.06 2.06-.94-2.06-.94L8.5 2.5l-.94 2.06-2.06.94zm10 10l.94 2.06.94-2.06 2.06-.94-2.06-.94-.94-2.06-.94 2.06-2.06.94z\"/><path d=\"M17.41 7.96l-1.37-1.37c-.4-.4-.92-.59-1.43-.59-.52 0-1.04.2-1.43.59L10.3 9.45l-7.72 7.72c-.78.78-.78 2.05 0 2.83L4 21.41c.39.39.9.59 1.41.59.51 0 1.02-.2 1.41-.59l7.78-7.78 2.81-2.81c.8-.78.8-2.07 0-2.86zM5.41 20L4 18.59l7.72-7.72 1.47 1.35L5.41 20z\"/>\n",
              "  </svg>\n",
              "      </button>\n",
              "      \n",
              "  <style>\n",
              "    .colab-df-container {\n",
              "      display:flex;\n",
              "      flex-wrap:wrap;\n",
              "      gap: 12px;\n",
              "    }\n",
              "\n",
              "    .colab-df-convert {\n",
              "      background-color: #E8F0FE;\n",
              "      border: none;\n",
              "      border-radius: 50%;\n",
              "      cursor: pointer;\n",
              "      display: none;\n",
              "      fill: #1967D2;\n",
              "      height: 32px;\n",
              "      padding: 0 0 0 0;\n",
              "      width: 32px;\n",
              "    }\n",
              "\n",
              "    .colab-df-convert:hover {\n",
              "      background-color: #E2EBFA;\n",
              "      box-shadow: 0px 1px 2px rgba(60, 64, 67, 0.3), 0px 1px 3px 1px rgba(60, 64, 67, 0.15);\n",
              "      fill: #174EA6;\n",
              "    }\n",
              "\n",
              "    [theme=dark] .colab-df-convert {\n",
              "      background-color: #3B4455;\n",
              "      fill: #D2E3FC;\n",
              "    }\n",
              "\n",
              "    [theme=dark] .colab-df-convert:hover {\n",
              "      background-color: #434B5C;\n",
              "      box-shadow: 0px 1px 3px 1px rgba(0, 0, 0, 0.15);\n",
              "      filter: drop-shadow(0px 1px 2px rgba(0, 0, 0, 0.3));\n",
              "      fill: #FFFFFF;\n",
              "    }\n",
              "  </style>\n",
              "\n",
              "      <script>\n",
              "        const buttonEl =\n",
              "          document.querySelector('#df-d20a5a89-4238-413d-a40d-f97144f2d2f7 button.colab-df-convert');\n",
              "        buttonEl.style.display =\n",
              "          google.colab.kernel.accessAllowed ? 'block' : 'none';\n",
              "\n",
              "        async function convertToInteractive(key) {\n",
              "          const element = document.querySelector('#df-d20a5a89-4238-413d-a40d-f97144f2d2f7');\n",
              "          const dataTable =\n",
              "            await google.colab.kernel.invokeFunction('convertToInteractive',\n",
              "                                                     [key], {});\n",
              "          if (!dataTable) return;\n",
              "\n",
              "          const docLinkHtml = 'Like what you see? Visit the ' +\n",
              "            '<a target=\"_blank\" href=https://colab.research.google.com/notebooks/data_table.ipynb>data table notebook</a>'\n",
              "            + ' to learn more about interactive tables.';\n",
              "          element.innerHTML = '';\n",
              "          dataTable['output_type'] = 'display_data';\n",
              "          await google.colab.output.renderOutput(dataTable, element);\n",
              "          const docLink = document.createElement('div');\n",
              "          docLink.innerHTML = docLinkHtml;\n",
              "          element.appendChild(docLink);\n",
              "        }\n",
              "      </script>\n",
              "    </div>\n",
              "  </div>\n",
              "  "
            ]
          },
          "metadata": {},
          "execution_count": 34
        }
      ]
    },
    {
      "cell_type": "code",
      "source": [
        "# Change -1 to 0\n",
        "prediction[prediction==-1]=0"
      ],
      "metadata": {
        "id": "2zhK5Hi7-n2E"
      },
      "execution_count": 35,
      "outputs": []
    },
    {
      "cell_type": "code",
      "source": [
        "prediction['Covid'] = prediction['Covid'].apply(lambda x: int(x))\n",
        "prediction.head()"
      ],
      "metadata": {
        "colab": {
          "base_uri": "https://localhost:8080/",
          "height": 206
        },
        "id": "EVMLejSqcx6S",
        "outputId": "b91c72ee-21f9-4975-e682-3aba3b201310"
      },
      "execution_count": 36,
      "outputs": [
        {
          "output_type": "execute_result",
          "data": {
            "text/plain": [
              "   Id  Covid\n",
              "0   1      0\n",
              "1   2      1\n",
              "2   3      1\n",
              "3   4      0\n",
              "4   5      1"
            ],
            "text/html": [
              "\n",
              "  <div id=\"df-b9b95198-7a46-48e8-ab8b-ddb5986843cf\">\n",
              "    <div class=\"colab-df-container\">\n",
              "      <div>\n",
              "<style scoped>\n",
              "    .dataframe tbody tr th:only-of-type {\n",
              "        vertical-align: middle;\n",
              "    }\n",
              "\n",
              "    .dataframe tbody tr th {\n",
              "        vertical-align: top;\n",
              "    }\n",
              "\n",
              "    .dataframe thead th {\n",
              "        text-align: right;\n",
              "    }\n",
              "</style>\n",
              "<table border=\"1\" class=\"dataframe\">\n",
              "  <thead>\n",
              "    <tr style=\"text-align: right;\">\n",
              "      <th></th>\n",
              "      <th>Id</th>\n",
              "      <th>Covid</th>\n",
              "    </tr>\n",
              "  </thead>\n",
              "  <tbody>\n",
              "    <tr>\n",
              "      <th>0</th>\n",
              "      <td>1</td>\n",
              "      <td>0</td>\n",
              "    </tr>\n",
              "    <tr>\n",
              "      <th>1</th>\n",
              "      <td>2</td>\n",
              "      <td>1</td>\n",
              "    </tr>\n",
              "    <tr>\n",
              "      <th>2</th>\n",
              "      <td>3</td>\n",
              "      <td>1</td>\n",
              "    </tr>\n",
              "    <tr>\n",
              "      <th>3</th>\n",
              "      <td>4</td>\n",
              "      <td>0</td>\n",
              "    </tr>\n",
              "    <tr>\n",
              "      <th>4</th>\n",
              "      <td>5</td>\n",
              "      <td>1</td>\n",
              "    </tr>\n",
              "  </tbody>\n",
              "</table>\n",
              "</div>\n",
              "      <button class=\"colab-df-convert\" onclick=\"convertToInteractive('df-b9b95198-7a46-48e8-ab8b-ddb5986843cf')\"\n",
              "              title=\"Convert this dataframe to an interactive table.\"\n",
              "              style=\"display:none;\">\n",
              "        \n",
              "  <svg xmlns=\"http://www.w3.org/2000/svg\" height=\"24px\"viewBox=\"0 0 24 24\"\n",
              "       width=\"24px\">\n",
              "    <path d=\"M0 0h24v24H0V0z\" fill=\"none\"/>\n",
              "    <path d=\"M18.56 5.44l.94 2.06.94-2.06 2.06-.94-2.06-.94-.94-2.06-.94 2.06-2.06.94zm-11 1L8.5 8.5l.94-2.06 2.06-.94-2.06-.94L8.5 2.5l-.94 2.06-2.06.94zm10 10l.94 2.06.94-2.06 2.06-.94-2.06-.94-.94-2.06-.94 2.06-2.06.94z\"/><path d=\"M17.41 7.96l-1.37-1.37c-.4-.4-.92-.59-1.43-.59-.52 0-1.04.2-1.43.59L10.3 9.45l-7.72 7.72c-.78.78-.78 2.05 0 2.83L4 21.41c.39.39.9.59 1.41.59.51 0 1.02-.2 1.41-.59l7.78-7.78 2.81-2.81c.8-.78.8-2.07 0-2.86zM5.41 20L4 18.59l7.72-7.72 1.47 1.35L5.41 20z\"/>\n",
              "  </svg>\n",
              "      </button>\n",
              "      \n",
              "  <style>\n",
              "    .colab-df-container {\n",
              "      display:flex;\n",
              "      flex-wrap:wrap;\n",
              "      gap: 12px;\n",
              "    }\n",
              "\n",
              "    .colab-df-convert {\n",
              "      background-color: #E8F0FE;\n",
              "      border: none;\n",
              "      border-radius: 50%;\n",
              "      cursor: pointer;\n",
              "      display: none;\n",
              "      fill: #1967D2;\n",
              "      height: 32px;\n",
              "      padding: 0 0 0 0;\n",
              "      width: 32px;\n",
              "    }\n",
              "\n",
              "    .colab-df-convert:hover {\n",
              "      background-color: #E2EBFA;\n",
              "      box-shadow: 0px 1px 2px rgba(60, 64, 67, 0.3), 0px 1px 3px 1px rgba(60, 64, 67, 0.15);\n",
              "      fill: #174EA6;\n",
              "    }\n",
              "\n",
              "    [theme=dark] .colab-df-convert {\n",
              "      background-color: #3B4455;\n",
              "      fill: #D2E3FC;\n",
              "    }\n",
              "\n",
              "    [theme=dark] .colab-df-convert:hover {\n",
              "      background-color: #434B5C;\n",
              "      box-shadow: 0px 1px 3px 1px rgba(0, 0, 0, 0.15);\n",
              "      filter: drop-shadow(0px 1px 2px rgba(0, 0, 0, 0.3));\n",
              "      fill: #FFFFFF;\n",
              "    }\n",
              "  </style>\n",
              "\n",
              "      <script>\n",
              "        const buttonEl =\n",
              "          document.querySelector('#df-b9b95198-7a46-48e8-ab8b-ddb5986843cf button.colab-df-convert');\n",
              "        buttonEl.style.display =\n",
              "          google.colab.kernel.accessAllowed ? 'block' : 'none';\n",
              "\n",
              "        async function convertToInteractive(key) {\n",
              "          const element = document.querySelector('#df-b9b95198-7a46-48e8-ab8b-ddb5986843cf');\n",
              "          const dataTable =\n",
              "            await google.colab.kernel.invokeFunction('convertToInteractive',\n",
              "                                                     [key], {});\n",
              "          if (!dataTable) return;\n",
              "\n",
              "          const docLinkHtml = 'Like what you see? Visit the ' +\n",
              "            '<a target=\"_blank\" href=https://colab.research.google.com/notebooks/data_table.ipynb>data table notebook</a>'\n",
              "            + ' to learn more about interactive tables.';\n",
              "          element.innerHTML = '';\n",
              "          dataTable['output_type'] = 'display_data';\n",
              "          await google.colab.output.renderOutput(dataTable, element);\n",
              "          const docLink = document.createElement('div');\n",
              "          docLink.innerHTML = docLinkHtml;\n",
              "          element.appendChild(docLink);\n",
              "        }\n",
              "      </script>\n",
              "    </div>\n",
              "  </div>\n",
              "  "
            ]
          },
          "metadata": {},
          "execution_count": 36
        }
      ]
    },
    {
      "cell_type": "code",
      "source": [
        "#Submission\n",
        "sub = prediction.to_csv('Yte.csv',index=False)"
      ],
      "metadata": {
        "id": "jEsjSTtNafP7"
      },
      "execution_count": 37,
      "outputs": []
    }
  ]
}